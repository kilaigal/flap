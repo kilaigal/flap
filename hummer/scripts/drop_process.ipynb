{
 "cells": [
  {
   "cell_type": "code",
   "execution_count": 1,
   "metadata": {},
   "outputs": [],
   "source": [
    "import os, random, time\n",
    "import cv2, imutils\n",
    "from skimage.measure import compare_ssim\n",
    "import numpy as np\n",
    "from matplotlib import pyplot as plt\n",
    "%matplotlib inline"
   ]
  },
  {
   "cell_type": "code",
   "execution_count": 2,
   "metadata": {},
   "outputs": [
    {
     "name": "stdout",
     "output_type": "stream",
     "text": [
      "/Users/sharan_srinivasan/Documents/adhoc/kilaigal\n"
     ]
    }
   ],
   "source": [
    "%cd '/Users/sharan_srinivasan/Documents/adhoc/kilaigal'"
   ]
  },
  {
   "cell_type": "markdown",
   "metadata": {},
   "source": [
    "1. Read a sample video stream\n",
    "2. Fetch base frame,\n",
    "3. Diff generator --> Identify motion changes, record ts and callback to chunk display\n",
    "4. Process frames : BW,Guassian ablation, thresholding, countour detection --> Object localization. Callback to localized object image saver\n",
    "5. end stream and output ts chunks. \n",
    "6. Try to output one frame of the localized object"
   ]
  },
  {
   "cell_type": "code",
   "execution_count": 3,
   "metadata": {},
   "outputs": [],
   "source": [
    "\n",
    "# check the framedelta's rmse \n",
    "def compute_rmse_from_image_diff(imageDiff):\n",
    "    diffSum = np.sum(imageDiff.astype('float')**2)\n",
    "    diffCardinality = (imageDiff.shape[0]*imageDiff.shape[1])\n",
    "    rmse = np.sqrt(diffSum/ diffCardinality)\n",
    "    return rmse\n",
    "\n",
    "# Check SSIM\n",
    "def compute_structural_similarity(imgage, reference):\n",
    "    s = compare_ssim(imgage, reference)\n",
    "    return s\n"
   ]
  },
  {
   "cell_type": "code",
   "execution_count": 4,
   "metadata": {},
   "outputs": [],
   "source": [
    "# Read the file and get an initial frame\n",
    "vid = cv2.VideoCapture('videos/Water Drop-Small.mp4')"
   ]
  },
  {
   "cell_type": "code",
   "execution_count": 5,
   "metadata": {},
   "outputs": [],
   "source": [
    "def simplePlay():\n",
    "    cap = cv2.VideoCapture('videos/Water Drop-Small.mp4')\n",
    "\n",
    "    while(cap.isOpened()):\n",
    "        ret, frame = cap.read()\n",
    "\n",
    "        gray = cv2.cvtColor(frame, cv2.COLOR_BGR2GRAY)\n",
    "    #     gray = frame\n",
    "\n",
    "        cv2.imshow('frame',gray)\n",
    "        if cv2.waitKey(1) & 0xFF == ord('q'):\n",
    "            cap.release()\n",
    "            cv2.destroyAllWindows()\n",
    "            break\n",
    "\n",
    "    cap.release()\n",
    "    cv2.destroyAllWindows()"
   ]
  },
  {
   "cell_type": "code",
   "execution_count": 19,
   "metadata": {},
   "outputs": [],
   "source": [
    "def preProcessImageFrame(frame):\n",
    "    # Resize the image so it plays nicely with openCV\n",
    "    frame = imutils.resize(frame, width=512, height=256)\n",
    "    # Convert it to grayscale to enable simple diffing\n",
    "    frame = cv2.cvtColor(frame, cv2.COLOR_BGR2GRAY)\n",
    "    # Add some blur to smooth and get rid of noise\n",
    "    frame = cv2.blur(frame, (1, 1), 0)\n",
    "    return frame"
   ]
  },
  {
   "cell_type": "code",
   "execution_count": 28,
   "metadata": {},
   "outputs": [
    {
     "name": "stdout",
     "output_type": "stream",
     "text": [
      "Motion sequence detected on frame 53 with ssim distance 0.173420516095266\n",
      "Motion sequence ended at frame [53]. Resetting State\n",
      "Motion sequence detected on frame 75 with ssim distance 0.1179341543556599\n",
      "Motion sequence ended at frame [75]. Resetting State\n",
      "Motion sequence detected on frame 119 with ssim distance 0.12073347389465305\n",
      "Motion sequence ended at frame [119]. Resetting State\n",
      "Motion sequence detected on frame 163 with ssim distance 0.15018130303404542\n",
      "Motion sequence ended at frame [163]. Resetting State\n",
      "Motion sequence detected on frame 185 with ssim distance 0.13546282006911625\n",
      "Motion sequence ended at frame [185]. Resetting State\n",
      "Motion sequence detected on frame 218 with ssim distance 0.18795790591263695\n",
      "Motion sequence ended at frame [218]. Resetting State\n",
      "Motion sequence detected on frame 240 with ssim distance 0.13787667216866029\n",
      "Motion sequence ended at frame [240]. Resetting State\n",
      "Motion sequence detected on frame 273 with ssim distance 0.12175489350071944\n",
      "Motion sequence ended at frame [273]. Resetting State\n",
      "Motion sequence detected on frame 317 with ssim distance 0.11273930364110474\n",
      "Motion sequence ended at frame [317]. Resetting State\n",
      "Motion sequence detected on frame 405 with ssim distance 0.103660484207032\n",
      "Motion sequence ended at frame [405]. Resetting State\n",
      "Motion sequence detected on frame 449 with ssim distance 0.14811950574632116\n",
      "Motion sequence ended at frame [449]. Resetting State\n",
      "Motion sequence detected on frame 526 with ssim distance 0.134653403951418\n",
      "Motion sequence ended at frame [526]. Resetting State\n",
      "Motion sequence detected on frame 570 with ssim distance 0.10085602997791732\n",
      "Motion sequence ended at frame [570]. Resetting State\n",
      "Motion sequence detected on frame 603 with ssim distance 0.10088808663866888\n",
      "Motion sequence ended at frame [603]. Resetting State\n",
      "Motion sequence detected on frame 658 with ssim distance 0.15383033534972546\n",
      "Motion sequence ended at frame [658, 669, 680, 691, 702, 713, 724, 735, 746, 757, 768, 779, 790, 801, 812, 823, 834, 845, 856, 867, 878, 889, 900, 911, 922, 933, 944, 955, 966, 977, 988]. Resetting State\n",
      "Video stream not recieved. Aborting ...\n"
     ]
    }
   ],
   "source": [
    "all_motion_sequences = []\n",
    "current_motion_seq = []\n",
    "cap = cv2.VideoCapture('videos/flower_small.mp4')\n",
    "baseFrame = None\n",
    "SSIM_DISTANCE_THRESHOLD = 0.1\n",
    "frame_num = 0 # codex frame index\n",
    "motion_state = 0 # Whether the video is in motion\n",
    "\n",
    "\n",
    "def fetch_frame_with_lag():    \n",
    "    global frame_num\n",
    "    i = frame_num\n",
    "    while i < frame_num + 10:\n",
    "        ret, nextFrame = cap.read()\n",
    "        if ret == False:\n",
    "            break;\n",
    "        i+=1\n",
    "    frame_num = i\n",
    "    return ret, nextFrame\n",
    "\n",
    "\"\"\"\n",
    "    We update the base frame to adapt to the new normalcy. The intuition\n",
    "    is that the over time the current frame will dampen precious base.\n",
    "    X = (\\alpha)X + (1-\\alpha)C\n",
    "    Where \n",
    "        - alpha : Affine smoothing weight\n",
    "        - X: Existing base frame\n",
    "        - C: Current frame\n",
    "\"\"\"\n",
    "def updateBaseFrameWithSmoothing(baseFrame, curFrame):\n",
    "    #print(\"baseFrame\", baseFrame.shape)\n",
    "    #print(\"curFrame\", curFrame.shape)\n",
    "    alpha = 1.0\n",
    "    newBaseFrame = alpha*baseFrame + (1-alpha)*curFrame\n",
    "    # print(\"newBaseFrame\", newBaseFrame.shape)\n",
    "    return newBaseFrame.astype(int)\n",
    "    \n",
    "\n",
    "while(cap.isOpened()):\n",
    "    # Get the current frame and preprocess it\n",
    "    ret, frame = fetch_frame_with_lag()\n",
    "    if(ret == False):\n",
    "        if(motion_state == 1):\n",
    "            print(\"Motion sequence ended at frame {}. Resetting State\".format(current_motion_seq))\n",
    "            all_motion_sequences.append(current_motion_seq)\n",
    "            current_motion_seq = []\n",
    "            motion_state = 0\n",
    "        print(\"Video stream not recieved. Aborting ...\")\n",
    "        break;\n",
    "        \n",
    "    ppFrame = preProcessImageFrame(frame)\n",
    "\n",
    "    if baseFrame is None:\n",
    "        baseFrame = ppFrame.copy()\n",
    "        continue\n",
    "    else:\n",
    "        # update the base frame\n",
    "        alpha = 1.0\n",
    "#         newBaseFrame = np.array(alpha*baseFrame + (1-alpha)*ppFrame).astype(int)\n",
    "        newBaseFrame = cv2.addWeighted(baseFrame, 0.9, ppFrame, 0.1, 0, dtype = cv2.CV_32F)\n",
    "        # baseFrame = newBaseFrame.copy()\n",
    "        \n",
    "    # Determine if there is a motion sequence and update state\n",
    "    ssim = 1 - compute_structural_similarity(baseFrame, ppFrame)\n",
    "    if(ssim > SSIM_DISTANCE_THRESHOLD):\n",
    "        current_motion_seq.append(frame_num)\n",
    "        if(motion_state == 0):\n",
    "            print(\"Motion sequence detected on frame {} with ssim distance {}\".format(frame_num, ssim))\n",
    "            motion_state = 1\n",
    "            baseFrame = np.copy(ppFrame)\n",
    "    else:\n",
    "        # When there is no motion, reset the state and end the motion seqeuence\n",
    "        if(motion_state == 1):\n",
    "            print(\"Motion sequence ended at frame {}. Resetting State\".format(current_motion_seq))\n",
    "            all_motion_sequences.append(current_motion_seq)\n",
    "            current_motion_seq = []\n",
    "            motion_state = 0\n",
    "    \n",
    "    frame_num +=1\n",
    "    \n",
    "    # To localize the Image\n",
    "#     Get a simple diff with the base frame\n",
    "    frameDelta = cv2.absdiff(baseFrame, ppFrame)\n",
    "    # threshold the delta\n",
    "    frameDeltaThresholded = cv2.threshold(frameDelta, 8, 255, cv2.THRESH_BINARY)\n",
    "    \n",
    "    # play the image\n",
    "    cv2.imshow('frame',ppFrame)\n",
    "    if cv2.waitKey(1) & 0xFF == ord('q'):\n",
    "        cap.release()\n",
    "        cv2.destroyAllWindows()\n",
    "        break\n",
    "\n",
    "cap.release()\n",
    "cv2.destroyAllWindows()"
   ]
  },
  {
   "cell_type": "code",
   "execution_count": 30,
   "metadata": {},
   "outputs": [
    {
     "name": "stdout",
     "output_type": "stream",
     "text": [
      "[53, 75, 119, 163, 185, 218, 240, 273, 317, 405, 449, 526, 570, 603, 658]\n"
     ]
    }
   ],
   "source": [
    "def compress_all_sequences(all_motion_sequences):\n",
    "    '''\n",
    "    Takes a function of motion sequences and return (start_time) tuples.\n",
    "    \n",
    "    :param all_motion_sequences: A list of lists, with each list being a motion sequence\n",
    "    :returns: A sequence of tuples\n",
    "    '''\n",
    "    \n",
    "    compressed_sequences = []\n",
    "    for s in all_motion_sequences:\n",
    "        t = (s[0])\n",
    "        compressed_sequences.append(t)\n",
    "    return compressed_sequences\n",
    "    \n",
    "print(compress_all_sequences(all_motion_sequences))"
   ]
  },
  {
   "cell_type": "code",
   "execution_count": null,
   "metadata": {},
   "outputs": [],
   "source": []
  },
  {
   "cell_type": "code",
   "execution_count": 18,
   "metadata": {},
   "outputs": [],
   "source": [
    "?cv2.addWeighted"
   ]
  },
  {
   "cell_type": "code",
   "execution_count": null,
   "metadata": {},
   "outputs": [],
   "source": []
  }
 ],
 "metadata": {
  "kernelspec": {
   "display_name": "Python 3",
   "language": "python",
   "name": "python3"
  },
  "language_info": {
   "codemirror_mode": {
    "name": "ipython",
    "version": 3
   },
   "file_extension": ".py",
   "mimetype": "text/x-python",
   "name": "python",
   "nbconvert_exporter": "python",
   "pygments_lexer": "ipython3",
   "version": "3.7.3"
  }
 },
 "nbformat": 4,
 "nbformat_minor": 2
}
